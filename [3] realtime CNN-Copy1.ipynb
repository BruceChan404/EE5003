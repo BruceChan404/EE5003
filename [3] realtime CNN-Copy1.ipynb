{
 "cells": [
  {
   "cell_type": "code",
   "execution_count": 1,
   "id": "27cbd6a7",
   "metadata": {},
   "outputs": [],
   "source": [
    "import os\n",
    "import time\n",
    "import copy\n",
    "\n",
    "import torch\n",
    "import torch.nn.functional as F\n",
    "import torch.optim as optim\n",
    "import torchvision\n",
    "\n",
    "assert torch.__version__ == '1.9.0+cu102', 'Please reinstall pytorch to 1.9.0.'\n",
    "assert torchvision.__version__ == '0.10.0+cu102', 'Please reinstall torchvision to 0.10.0.'"
   ]
  },
  {
   "cell_type": "code",
   "execution_count": 2,
   "id": "5cdd9de0",
   "metadata": {},
   "outputs": [
    {
     "name": "stdout",
     "output_type": "stream",
     "text": [
      "cuda:0\n"
     ]
    }
   ],
   "source": [
    "classes = ['vertical jump', 'lateral jump', 'walk','kick left','kick right']\n",
    "if torch.cuda.is_available():\n",
    "    device = 'cuda:0'\n",
    "else:\n",
    "    device = 'cpu'\n",
    "print(device)"
   ]
  },
  {
   "cell_type": "code",
   "execution_count": 3,
   "id": "cc519761",
   "metadata": {},
   "outputs": [
    {
     "name": "stdout",
     "output_type": "stream",
     "text": [
      "ConvNet(\n",
      "  (conv1): Conv2d(1, 32, kernel_size=(3, 3), stride=(1, 1), padding=(1, 1))\n",
      "  (conv2): Conv2d(32, 64, kernel_size=(2, 2), stride=(1, 1), padding=(1, 1))\n",
      "  (conv3): Conv2d(64, 128, kernel_size=(3, 3), stride=(1, 1), padding=(1, 1))\n",
      "  (conv4): Conv2d(128, 256, kernel_size=(3, 3), stride=(1, 1), padding=(1, 1))\n",
      "  (fc1): Linear(in_features=4096, out_features=4096, bias=True)\n",
      "  (fc2): Linear(in_features=4096, out_features=4096, bias=True)\n",
      "  (fc3): Linear(in_features=4096, out_features=4096, bias=True)\n",
      "  (fc4): Linear(in_features=4096, out_features=5, bias=True)\n",
      ")\n"
     ]
    }
   ],
   "source": [
    "class ConvNet(torch.nn.Module):\n",
    "    def __init__(self):\n",
    "        super(ConvNet, self).__init__()\n",
    "        \n",
    "        ######  ########################################################################\n",
    "        # TODO: Define a simple CNN contraining Conv, Pooling, and FC layers.        #\n",
    "        ##############################################################################\n",
    "        \n",
    "\n",
    "        # Block 1:         1 x 30 x 30 --> 32 x 15 x 15        \n",
    "        self.conv1 = torch.nn.Conv2d(1, 32, 3,padding=1) \n",
    "        # Block 2:         32 x 15 x 15 --> 64 x 16 x 16\n",
    "        self.conv2 = torch.nn.Conv2d(32, 64, 2,padding=1)\n",
    "        # Block 3:         64 x 16 x 16 --> 128 x 8 x 8        \n",
    "        self.conv3 = torch.nn.Conv2d(64, 128, 3,padding=1)\n",
    "        # Block 4:          128 x 8 x 8 --> 256 x 4 x 4\n",
    "        self.conv4 = torch.nn.Conv2d(128, 256, 3,padding=1)\n",
    "        # Linear layers:   256 x 4 x 4 --> 4096 --> 4096 --> 4096 --> 5\n",
    "        self.fc1   = torch.nn.Linear(256*4*4, 4096) \n",
    "        self.fc2   = torch.nn.Linear(4096, 4096) \n",
    "        self.fc3   = torch.nn.Linear(4096, 4096)\n",
    "        self.fc4   = torch.nn.Linear(4096, 5)\n",
    "        \n",
    "        ##############################################################################\n",
    "        #                             END OF YOUR CODE                               #\n",
    "        ##############################################################################\n",
    "\n",
    "    def forward(self, x):\n",
    "        \n",
    "        ##############################################################################\n",
    "        # TODO: Implement forward path turning an input image to class probability.  #\n",
    "        # For activation function, please use ReLU.                                  #\n",
    "        ##############################################################################\n",
    "\n",
    "        # Block 1:         1 x 30 x 30 --> 16 x 15 x 15\n",
    "        x = F.max_pool2d(F.relu(self.conv1(x)), (2, 2))\n",
    "        # Block 2:         16 x 15 x 15 --> 32 x 8 x 8\n",
    "        x = F.relu(self.conv2(x))\n",
    "        # Block 3:         32 x 8 x 8 --> 64 x 4 x 4\n",
    "        x = F.max_pool2d(F.relu(self.conv3(x)), (2, 2))\n",
    "        # Block 4:         64 x 4 x 4 --> 128 x 2 x 2\n",
    "        x = F.max_pool2d(F.relu(self.conv4(x)), 2)\n",
    "        # Linear layers:   128 x 2 x 2 --> 512 --> 1024 --> 1024 --> 10\n",
    "        x = x.view(x.size()[0], -1)\n",
    "        x = F.relu(self.fc1(x))\n",
    "        x = F.relu(self.fc2(x))\n",
    "        x = F.relu(self.fc3(x))\n",
    "        x = self.fc4(x)\n",
    "        \n",
    "        ##############################################################################\n",
    "        #                             END OF YOUR CODE                               #\n",
    "        ##############################################################################\n",
    "        \n",
    "        return x\n",
    "\n",
    "model = ConvNet()\n",
    "model.to(device)\n",
    "print(model)"
   ]
  },
  {
   "cell_type": "code",
   "execution_count": 4,
   "id": "2382948c",
   "metadata": {},
   "outputs": [
    {
     "data": {
      "text/plain": [
       "ConvNet(\n",
       "  (conv1): Conv2d(1, 32, kernel_size=(3, 3), stride=(1, 1), padding=(1, 1))\n",
       "  (conv2): Conv2d(32, 64, kernel_size=(2, 2), stride=(1, 1), padding=(1, 1))\n",
       "  (conv3): Conv2d(64, 128, kernel_size=(3, 3), stride=(1, 1), padding=(1, 1))\n",
       "  (conv4): Conv2d(128, 256, kernel_size=(3, 3), stride=(1, 1), padding=(1, 1))\n",
       "  (fc1): Linear(in_features=4096, out_features=4096, bias=True)\n",
       "  (fc2): Linear(in_features=4096, out_features=4096, bias=True)\n",
       "  (fc3): Linear(in_features=4096, out_features=4096, bias=True)\n",
       "  (fc4): Linear(in_features=4096, out_features=5, bias=True)\n",
       ")"
      ]
     },
     "execution_count": 4,
     "metadata": {},
     "output_type": "execute_result"
    }
   ],
   "source": [
    "assert os.path.exists('./model_cnn.pt'), 'train the model first'\n",
    "# Load the trained model\n",
    "model.load_state_dict(torch.load('./model_cnn.pt', map_location=torch.device('cpu')))\n",
    "model.to(device)\n",
    "model.eval()"
   ]
  },
  {
   "cell_type": "code",
   "execution_count": null,
   "id": "38c3792a",
   "metadata": {
    "scrolled": true
   },
   "outputs": [
    {
     "name": "stdout",
     "output_type": "stream",
     "text": [
      "server on\n",
      "服务器连接了auduino ,地址: ('192.168.31.228', 64266)\n",
      "motion detected\n"
     ]
    },
    {
     "data": {
      "image/png": "[encoded data removed]",
      "text/plain": [
       "<Figure size 432x288 with 1 Axes>"
      ]
     },
     "metadata": {
      "needs_background": "light"
     },
     "output_type": "display_data"
    },
    {
     "name": "stdout",
     "output_type": "stream",
     "text": [
      "(279, 9)\n",
      "154\n",
      "(1, 900)\n"
     ]
    },
    {
     "data": {
      "image/png": "[encoded data removed]",
      "text/plain": [
       "<Figure size 432x288 with 1 Axes>"
      ]
     },
     "metadata": {
      "needs_background": "light"
     },
     "output_type": "display_data"
    },
    {
     "name": "stderr",
     "output_type": "stream",
     "text": [
      "e:\\#######electronic softwares######\\python\\lib\\site-packages\\torch\\nn\\functional.py:718: UserWarning: Named tensors and all their associated APIs are an experimental feature and subject to change. Please do not use them for anything important until they are released as stable. (Triggered internally at  ..\\c10/core/TensorImpl.h:1156.)\n",
      "  return torch.max_pool2d(input, kernel_size, stride, padding, dilation, ceil_mode)\n"
     ]
    },
    {
     "name": "stdout",
     "output_type": "stream",
     "text": [
      "tensor([[-0.0225,  0.7031, -3.1445,  1.2734,  1.2746]], device='cuda:0',\n",
      "       grad_fn=<AddmmBackward>)\n",
      "=======================================================\n",
      "label= tensor([4], device='cuda:0')\n",
      "the motion is: ------------> kick right\n",
      "=======================================================\n"
     ]
    }
   ],
   "source": [
    "def vectorgenerator(data,window):\n",
    "    data=np.array(data)\n",
    "#     maxval=data.max(axis=0)\n",
    "#     maxtiming=data.argmax(axis=0)[maxval.argmax()]\n",
    "    maxtiming=data.argmax(axis=0)[3]\n",
    "    print(maxtiming)\n",
    "    cut=data[maxtiming-window:maxtiming+100-window,:]\n",
    "    cut=cut.T.reshape(1,900)\n",
    "    return cut\n",
    "\n",
    "import socket\n",
    "import sys\n",
    "import numpy as np\n",
    "import matplotlib.pyplot as plt\n",
    "\n",
    "def np_generator(str):\n",
    "    arr = str.split(',')\n",
    "    for i in range(len(arr)):\n",
    "        arr[i]=float(arr[i])\n",
    "    arr=np.array(arr)\n",
    "    return arr\n",
    "\n",
    "print(\"server on\")\n",
    "# 创建 socket 对象\n",
    "serversocket1 = socket.socket(socket.AF_INET, socket.SOCK_STREAM) \n",
    "socket2 = socket.socket(socket.AF_INET, socket.SOCK_STREAM) \n",
    "# 获取本地主机名\n",
    "host = socket.gethostname() #获取这个设备的名字\n",
    "port1 = 1234       #指定一个端口\n",
    "port2 = 8899\n",
    "# 绑定端口号\n",
    "serversocket1.bind((host, port1))#绑定serversocket || 主机，端口 (这个socket的服务端就是某主机的某端口了，后续就能调用相连)\n",
    "# 设置最大连接数，超过后排队\n",
    "serversocket1.listen(5)  #默认这么写\n",
    "socket2.connect((\"192.168.31.140\",port2))\n",
    "socket2.sendall(\"这句话是client发过去的\".encode('utf-8'))\n",
    "# must connect 2 first, otherwise stuck\n",
    "#################\n",
    "# for i in range(3):\n",
    "#     clientsocket2,addr2 = serversocket2.accept()  \n",
    "#     # 这一句就会一直阻塞，在他接受了5个请求之前，都会在这卡着，后边的whiletrue就运行不了，client1就连不上。\n",
    "#     print(\"服务器连接了unity ,地址: %s\" % str(addr2))\n",
    "#     m=str(i)\n",
    "#     clientsocket2.send(m.encode('utf-8'))\n",
    "#     clientsocket2.close()\n",
    "###################\n",
    "while True:\n",
    "    # 建立客户端连接\n",
    "    clientsocket1,addr1 = serversocket1.accept()\n",
    "    print(\"服务器连接了auduino ,地址: %s\" % str(addr1))\n",
    "    # msg1='这句话是服务器发回的send()响应'+ \"\\r\\n\"\n",
    "    # msg1=\"服务器向你回传了消息，证明你确实已被连上\"\n",
    "    msg1='1'\n",
    "    clientsocket1.send(msg1.encode('utf-8'))   \n",
    "    c=0\n",
    "    s=\"\"\n",
    "    #前接75个0 保证不越界\n",
    "    data=np.zeros([75,9])\n",
    "    countdown=10000\n",
    "    flag=0\n",
    "    while True:\n",
    "        msg = str(clientsocket1.recv(1024))\n",
    "        # print(len(msg))\n",
    "        # print(type(msg))\n",
    "        for i in range(len(msg)):\n",
    "            # print(msg[i])\n",
    "            if(msg[i]=='%'):\n",
    "                #又得到一行：\n",
    "                arr=np_generator(s).reshape(1,9)\n",
    "                if arr[0][3]>150:\n",
    "                    if flag==0:\n",
    "                        print(\"motion detected\")\n",
    "                        flag=1\n",
    "                        countdown=100\n",
    "                    if flag==1:\n",
    "                        flag=1\n",
    "                #拼接到之前的一条data里\n",
    "                data=np.concatenate((data,arr),axis=0)\n",
    "                countdown=countdown-1\n",
    "#                 print(countdown)\n",
    "                if countdown==0:\n",
    "                    #this is your data\n",
    "                    #后接25个0 保证不越界\n",
    "                    data=np.concatenate((data,np.zeros([25,9])),axis=0)\n",
    "#                     print(data)\n",
    "                    plt.figure()\n",
    "                    plt.plot(data)\n",
    "                    plt.show()\n",
    "                    print(data.shape)\n",
    "                    data=vectorgenerator(data,75)\n",
    "                    print(data.shape)\n",
    "                    plt.figure()\n",
    "                    plt.plot(data.T)\n",
    "                    plt.show()\n",
    "                    #predicetion\n",
    "                    input=torch.tensor(data).reshape(1,1,30,30).type(torch.FloatTensor)\n",
    "                    input=input.to(device)\n",
    "                    output=model(input)\n",
    "                    print(output)\n",
    "                    p_labels_all=torch.max(output,1)[1]\n",
    "                    print(\"=======================================================\")\n",
    "                    print(\"label=\",p_labels_all)\n",
    "                    print(\"the motion is: ------------>\",classes[p_labels_all])\n",
    "                    socket2.sendall(str(p_labels_all.item()).encode('utf-8'))\n",
    "                    print(\"=======================================================\")\n",
    "                    #reset everything\n",
    "                    data=np.zeros([75,9])\n",
    "                    flag=0\n",
    "                    countdown=10000\n",
    "#                 print(arr)\n",
    "                s=\"\"\n",
    "            else:\n",
    "                if(msg[i]!='b'):\n",
    "                    if(msg[i]!='\\''):\n",
    "                        s=s+str(msg[i])\n",
    "        c=c+1\n",
    "        # print(msg.decode(),i)\n",
    "    # clientsocket.close()"
   ]
  },
  {
   "cell_type": "code",
   "execution_count": null,
   "id": "e7c37d7d",
   "metadata": {},
   "outputs": [],
   "source": [
    "import numpy as np\n",
    "data=np.zeros([1,9])\n",
    "x=np.array([1,2,3,4,5,6,7,8,9]).reshape(1,9)\n",
    "a=np.concatenate((data,x),axis=0)\n",
    "print(data)\n",
    "print(x)\n",
    "print(a)"
   ]
  },
  {
   "cell_type": "code",
   "execution_count": null,
   "id": "9ec9d0a0",
   "metadata": {},
   "outputs": [],
   "source": [
    "print(label)"
   ]
  },
  {
   "cell_type": "code",
   "execution_count": null,
   "id": "51df10cb",
   "metadata": {},
   "outputs": [],
   "source": []
  }
 ],
 "metadata": {
  "kernelspec": {
   "display_name": "Python 3 (ipykernel)",
   "language": "python",
   "name": "python3"
  },
  "language_info": {
   "codemirror_mode": {
    "name": "ipython",
    "version": 3
   },
   "file_extension": ".py",
   "mimetype": "text/x-python",
   "name": "python",
   "nbconvert_exporter": "python",
   "pygments_lexer": "ipython3",
   "version": "3.7.4"
  }
 },
 "nbformat": 4,
 "nbformat_minor": 5
}
